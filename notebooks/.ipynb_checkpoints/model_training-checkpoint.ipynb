{
 "cells": [
  {
   "cell_type": "code",
   "execution_count": 4,
   "id": "9a5670f3",
   "metadata": {},
   "outputs": [],
   "source": [
    "import sys\n",
    "sys.path.append(\"../\")\n",
    "\n",
    "import tensorflow as tf\n",
    "from modules import utils, models"
   ]
  },
  {
   "cell_type": "markdown",
   "id": "40cd4ac4",
   "metadata": {},
   "source": [
    "# Training Single-Record Models:\n",
    "## Metadata-Only Model:"
   ]
  },
  {
   "cell_type": "code",
   "execution_count": 8,
   "id": "5a47ba4f",
   "metadata": {},
   "outputs": [],
   "source": [
    "metadata_gen = utils.CombinedDataGen(data_file='../data/master_train_df.csv',\n",
    "                                    out_mode='meta',\n",
    "                                    mode='train',\n",
    "                                    shuffle=True,\n",
    "                                    scaler_dir='../models/scalers')"
   ]
  }
 ],
 "metadata": {
  "kernelspec": {
   "display_name": "BioEnv",
   "language": "python",
   "name": "bioenv"
  },
  "language_info": {
   "codemirror_mode": {
    "name": "ipython",
    "version": 3
   },
   "file_extension": ".py",
   "mimetype": "text/x-python",
   "name": "python",
   "nbconvert_exporter": "python",
   "pygments_lexer": "ipython3",
   "version": "3.8.10"
  }
 },
 "nbformat": 4,
 "nbformat_minor": 5
}

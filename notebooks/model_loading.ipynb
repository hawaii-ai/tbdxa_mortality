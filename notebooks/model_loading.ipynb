{
 "cells": [
  {
   "cell_type": "markdown",
   "id": "f16e93e2",
   "metadata": {},
   "source": [
    "# How to load pre-trained models:\n",
    "## Single record example (combined modality):"
   ]
  },
  {
   "cell_type": "code",
   "execution_count": null,
   "id": "d60b47ae",
   "metadata": {
    "scrolled": true
   },
   "outputs": [],
   "source": [
    "import sys\n",
    "sys.path.append(\"../\")\n",
    "\n",
    "import tensorflow as tf\n",
    "import tensorflow_addons as tfa\n",
    "from modules import utils, models\n",
    "from tensorflow.keras import metrics\n",
    "from tensorflow.keras import callbacks"
   ]
  },
  {
   "cell_type": "code",
   "execution_count": null,
   "id": "6267214b",
   "metadata": {},
   "outputs": [],
   "source": [
    "combined_mdl = tf.keras.models.load_model('../models/combined_single_rec.h5')"
   ]
  },
  {
   "cell_type": "markdown",
   "id": "a4ae4706",
   "metadata": {},
   "source": [
    "### Quick Evaluation:"
   ]
  },
  {
   "cell_type": "code",
   "execution_count": null,
   "id": "e8248448",
   "metadata": {},
   "outputs": [],
   "source": [
    "combined_test_gen = utils.CombinedDataGen(data_file='../data/demo_test.csv',\n",
    "                                           out_mode='combined',\n",
    "                                           mode='test',\n",
    "                                           shuffle=False,\n",
    "                                           scaler_dir='../models/scalers')\n",
    "test_ds = utils.get_ds_from_gen(combined_test_gen,\n",
    "                                 out_mode='combined',\n",
    "                                 mode='test',\n",
    "                                 batch_size=64,\n",
    "                                 cache_dir='')"
   ]
  },
  {
   "cell_type": "code",
   "execution_count": null,
   "id": "762be70b",
   "metadata": {},
   "outputs": [],
   "source": [
    "combined_mdl.compile(loss='binary_crossentropy',\n",
    "                     metrics=[metrics.AUC()])"
   ]
  },
  {
   "cell_type": "code",
   "execution_count": null,
   "id": "945f0de6",
   "metadata": {},
   "outputs": [],
   "source": [
    "combined_mdl.evaluate(test_ds)"
   ]
  },
  {
   "cell_type": "markdown",
   "id": "8bdf6ec8",
   "metadata": {},
   "source": [
    "## Sequence Example (combined):\n",
    "- Need to write embeddings for test set to file first (see sequence_model_training for how to do that)"
   ]
  },
  {
   "cell_type": "code",
   "execution_count": null,
   "id": "640d8395",
   "metadata": {},
   "outputs": [],
   "source": [
    "combined_seq_mdl = tf.keras.models.load_model('../models/combined_sequence_rec.h5')\n",
    "test_combined_seq_gen = utils.SequenceGen(data_file='../data/combined_demo_sequence_test.pkl',\n",
    "                                           batch_size=1,\n",
    "                                           emb_shape=65)"
   ]
  },
  {
   "cell_type": "code",
   "execution_count": null,
   "id": "fb30fa1f",
   "metadata": {},
   "outputs": [],
   "source": [
    "combined_seq_mdl.compile(loss='binary_crossentropy',\n",
    "                         metrics=[metrics.AUC()])\n",
    "\n",
    "combined_seq_mdl.evaluate(test_combined_seq_gen)"
   ]
  }
 ],
 "metadata": {
  "kernelspec": {
   "display_name": "BioEnv",
   "language": "python",
   "name": "bioenv"
  },
  "language_info": {
   "codemirror_mode": {
    "name": "ipython",
    "version": 3
   },
   "file_extension": ".py",
   "mimetype": "text/x-python",
   "name": "python",
   "nbconvert_exporter": "python",
   "pygments_lexer": "ipython3",
   "version": "3.8.10"
  }
 },
 "nbformat": 4,
 "nbformat_minor": 5
}

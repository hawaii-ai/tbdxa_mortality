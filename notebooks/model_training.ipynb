{
 "cells": [
  {
   "cell_type": "code",
   "execution_count": 1,
   "id": "9a5670f3",
   "metadata": {},
   "outputs": [
    {
     "name": "stderr",
     "output_type": "stream",
     "text": [
      "2021-07-20 03:19:04.324055: I tensorflow/stream_executor/platform/default/dso_loader.cc:48] Successfully opened dynamic library libcudart.so.10.1\n"
     ]
    }
   ],
   "source": [
    "import sys\n",
    "sys.path.append(\"../\")\n",
    "\n",
    "import tensorflow as tf\n",
    "import tensorflow_addons as tfa\n",
    "from modules import utils, models\n",
    "from tensorflow.keras import metrics\n",
    "from tensorflow.keras import callbacks"
   ]
  },
  {
   "cell_type": "markdown",
   "id": "40cd4ac4",
   "metadata": {},
   "source": [
    "# Training Single-Record Models:\n",
    "## Metadata-Only Model:"
   ]
  },
  {
   "cell_type": "code",
   "execution_count": 2,
   "id": "5a47ba4f",
   "metadata": {
    "scrolled": false
   },
   "outputs": [
    {
     "name": "stderr",
     "output_type": "stream",
     "text": [
      "2021-07-20 03:19:07.554780: I tensorflow/stream_executor/platform/default/dso_loader.cc:48] Successfully opened dynamic library libcuda.so.1\n",
      "2021-07-20 03:19:07.645916: I tensorflow/core/common_runtime/gpu/gpu_device.cc:1716] Found device 0 with properties: \n",
      "pciBusID: 0000:06:00.0 name: NVIDIA Tesla V100-SXM2-32GB computeCapability: 7.0\n",
      "coreClock: 1.53GHz coreCount: 80 deviceMemorySize: 31.75GiB deviceMemoryBandwidth: 836.37GiB/s\n",
      "2021-07-20 03:19:07.645958: I tensorflow/stream_executor/platform/default/dso_loader.cc:48] Successfully opened dynamic library libcudart.so.10.1\n",
      "2021-07-20 03:19:07.667857: I tensorflow/stream_executor/platform/default/dso_loader.cc:48] Successfully opened dynamic library libcublas.so.10\n",
      "2021-07-20 03:19:07.680802: I tensorflow/stream_executor/platform/default/dso_loader.cc:48] Successfully opened dynamic library libcufft.so.10\n",
      "2021-07-20 03:19:07.691493: I tensorflow/stream_executor/platform/default/dso_loader.cc:48] Successfully opened dynamic library libcurand.so.10\n",
      "2021-07-20 03:19:07.714888: I tensorflow/stream_executor/platform/default/dso_loader.cc:48] Successfully opened dynamic library libcusolver.so.10\n",
      "2021-07-20 03:19:07.727727: I tensorflow/stream_executor/platform/default/dso_loader.cc:48] Successfully opened dynamic library libcusparse.so.10\n",
      "2021-07-20 03:19:07.778288: I tensorflow/stream_executor/platform/default/dso_loader.cc:48] Successfully opened dynamic library libcudnn.so.7\n",
      "2021-07-20 03:19:07.783009: I tensorflow/core/common_runtime/gpu/gpu_device.cc:1858] Adding visible gpu devices: 0\n",
      "2021-07-20 03:19:07.783673: I tensorflow/core/platform/cpu_feature_guard.cc:142] This TensorFlow binary is optimized with oneAPI Deep Neural Network Library (oneDNN)to use the following CPU instructions in performance-critical operations:  AVX2 FMA\n",
      "To enable them in other operations, rebuild TensorFlow with the appropriate compiler flags.\n",
      "2021-07-20 03:19:07.794310: I tensorflow/core/platform/profile_utils/cpu_utils.cc:104] CPU Frequency: 2194905000 Hz\n",
      "2021-07-20 03:19:07.794911: I tensorflow/compiler/xla/service/service.cc:168] XLA service 0x559d94f61b20 initialized for platform Host (this does not guarantee that XLA will be used). Devices:\n",
      "2021-07-20 03:19:07.794933: I tensorflow/compiler/xla/service/service.cc:176]   StreamExecutor device (0): Host, Default Version\n",
      "2021-07-20 03:19:07.932242: I tensorflow/compiler/xla/service/service.cc:168] XLA service 0x559d94f8e150 initialized for platform CUDA (this does not guarantee that XLA will be used). Devices:\n",
      "2021-07-20 03:19:07.932275: I tensorflow/compiler/xla/service/service.cc:176]   StreamExecutor device (0): NVIDIA Tesla V100-SXM2-32GB, Compute Capability 7.0\n",
      "2021-07-20 03:19:07.934784: I tensorflow/core/common_runtime/gpu/gpu_device.cc:1716] Found device 0 with properties: \n",
      "pciBusID: 0000:06:00.0 name: NVIDIA Tesla V100-SXM2-32GB computeCapability: 7.0\n",
      "coreClock: 1.53GHz coreCount: 80 deviceMemorySize: 31.75GiB deviceMemoryBandwidth: 836.37GiB/s\n",
      "2021-07-20 03:19:07.934824: I tensorflow/stream_executor/platform/default/dso_loader.cc:48] Successfully opened dynamic library libcudart.so.10.1\n",
      "2021-07-20 03:19:07.934859: I tensorflow/stream_executor/platform/default/dso_loader.cc:48] Successfully opened dynamic library libcublas.so.10\n",
      "2021-07-20 03:19:07.934879: I tensorflow/stream_executor/platform/default/dso_loader.cc:48] Successfully opened dynamic library libcufft.so.10\n",
      "2021-07-20 03:19:07.934898: I tensorflow/stream_executor/platform/default/dso_loader.cc:48] Successfully opened dynamic library libcurand.so.10\n",
      "2021-07-20 03:19:07.934916: I tensorflow/stream_executor/platform/default/dso_loader.cc:48] Successfully opened dynamic library libcusolver.so.10\n",
      "2021-07-20 03:19:07.934935: I tensorflow/stream_executor/platform/default/dso_loader.cc:48] Successfully opened dynamic library libcusparse.so.10\n",
      "2021-07-20 03:19:07.934954: I tensorflow/stream_executor/platform/default/dso_loader.cc:48] Successfully opened dynamic library libcudnn.so.7\n",
      "2021-07-20 03:19:07.939559: I tensorflow/core/common_runtime/gpu/gpu_device.cc:1858] Adding visible gpu devices: 0\n",
      "2021-07-20 03:19:07.939593: I tensorflow/stream_executor/platform/default/dso_loader.cc:48] Successfully opened dynamic library libcudart.so.10.1\n",
      "2021-07-20 03:19:08.646683: I tensorflow/core/common_runtime/gpu/gpu_device.cc:1257] Device interconnect StreamExecutor with strength 1 edge matrix:\n",
      "2021-07-20 03:19:08.646726: I tensorflow/core/common_runtime/gpu/gpu_device.cc:1263]      0 \n",
      "2021-07-20 03:19:08.646734: I tensorflow/core/common_runtime/gpu/gpu_device.cc:1276] 0:   N \n",
      "2021-07-20 03:19:08.651721: I tensorflow/core/common_runtime/gpu/gpu_device.cc:1402] Created TensorFlow device (/job:localhost/replica:0/task:0/device:GPU:0 with 30134 MB memory) -> physical GPU (device: 0, name: NVIDIA Tesla V100-SXM2-32GB, pci bus id: 0000:06:00.0, compute capability: 7.0)\n"
     ]
    }
   ],
   "source": [
    "metadata_train_gen = utils.CombinedDataGen(data_file='../data/master_train_df.csv',\n",
    "                                           out_mode='meta',\n",
    "                                           mode='train',\n",
    "                                           shuffle=True,\n",
    "                                           scaler_dir='../models/scalers')\n",
    "\n",
    "metadata_valid_gen = utils.CombinedDataGen(data_file='../data/master_valid_df.csv',\n",
    "                                           out_mode='meta',\n",
    "                                           mode='valid',\n",
    "                                           shuffle=True,\n",
    "                                           scaler_dir='../models/scalers')\n",
    "\n",
    "train_ds = utils.get_ds_from_gen(metadata_train_gen,\n",
    "                                 out_mode='meta',\n",
    "                                 mode='train',\n",
    "                                 batch_size=64,\n",
    "                                 cache_dir='')\n",
    "valid_ds = utils.get_ds_from_gen(metadata_valid_gen,\n",
    "                                 out_mode='meta',\n",
    "                                 mode='valid',\n",
    "                                 batch_size=64,\n",
    "                                 cache_dir='')"
   ]
  },
  {
   "cell_type": "code",
   "execution_count": 3,
   "id": "b638ed31",
   "metadata": {},
   "outputs": [],
   "source": [
    "metadata_mdl = models.init_meta_model()\n",
    "\n",
    "metadata_mdl.compile(optimizer='adam', \n",
    "                     loss='binary_crossentropy',\n",
    "                     metrics=[metrics.AUC()])"
   ]
  },
  {
   "cell_type": "code",
   "execution_count": 4,
   "id": "34959377",
   "metadata": {
    "scrolled": true
   },
   "outputs": [
    {
     "name": "stdout",
     "output_type": "stream",
     "text": [
      "Epoch 1/10000\n"
     ]
    },
    {
     "name": "stderr",
     "output_type": "stream",
     "text": [
      "2021-07-20 03:19:09.762859: I tensorflow/stream_executor/platform/default/dso_loader.cc:48] Successfully opened dynamic library libcublas.so.10\n"
     ]
    },
    {
     "name": "stdout",
     "output_type": "stream",
     "text": [
      "194/194 [==============================] - 39s 203ms/step - loss: 0.6446 - auc: 0.6304 - val_loss: 0.6322 - val_auc: 0.6535\n",
      "Epoch 2/10000\n",
      "194/194 [==============================] - 4s 19ms/step - loss: 0.6261 - auc: 0.6710 - val_loss: 0.6208 - val_auc: 0.6722\n",
      "Epoch 3/10000\n",
      "194/194 [==============================] - 4s 19ms/step - loss: 0.6161 - auc: 0.6869 - val_loss: 0.6134 - val_auc: 0.6831\n",
      "Epoch 4/10000\n",
      "194/194 [==============================] - 4s 19ms/step - loss: 0.6098 - auc: 0.6961 - val_loss: 0.6089 - val_auc: 0.6885\n",
      "Epoch 5/10000\n",
      "194/194 [==============================] - 4s 19ms/step - loss: 0.6061 - auc: 0.7010 - val_loss: 0.6065 - val_auc: 0.6923\n",
      "Epoch 6/10000\n",
      "194/194 [==============================] - 4s 19ms/step - loss: 0.6037 - auc: 0.7040 - val_loss: 0.6050 - val_auc: 0.6943\n",
      "Epoch 7/10000\n",
      "194/194 [==============================] - 4s 19ms/step - loss: 0.6022 - auc: 0.7060 - val_loss: 0.6040 - val_auc: 0.6957\n",
      "Epoch 8/10000\n",
      "194/194 [==============================] - 4s 19ms/step - loss: 0.6011 - auc: 0.7075 - val_loss: 0.6031 - val_auc: 0.6971\n",
      "Epoch 9/10000\n",
      "194/194 [==============================] - 4s 19ms/step - loss: 0.6002 - auc: 0.7087 - val_loss: 0.6025 - val_auc: 0.6980\n",
      "Epoch 10/10000\n",
      "194/194 [==============================] - 4s 19ms/step - loss: 0.5994 - auc: 0.7096 - val_loss: 0.6020 - val_auc: 0.6987\n",
      "Epoch 11/10000\n",
      "194/194 [==============================] - 4s 19ms/step - loss: 0.5988 - auc: 0.7105 - val_loss: 0.6014 - val_auc: 0.6992\n",
      "Epoch 12/10000\n",
      "194/194 [==============================] - 4s 19ms/step - loss: 0.5982 - auc: 0.7113 - val_loss: 0.6008 - val_auc: 0.7000\n",
      "Epoch 13/10000\n",
      "194/194 [==============================] - 4s 19ms/step - loss: 0.5976 - auc: 0.7121 - val_loss: 0.6004 - val_auc: 0.7008\n",
      "Epoch 14/10000\n",
      "194/194 [==============================] - 4s 19ms/step - loss: 0.5970 - auc: 0.7129 - val_loss: 0.5998 - val_auc: 0.7012\n",
      "Epoch 15/10000\n",
      "194/194 [==============================] - 4s 19ms/step - loss: 0.5965 - auc: 0.7135 - val_loss: 0.5995 - val_auc: 0.7015\n",
      "Epoch 16/10000\n",
      "194/194 [==============================] - 4s 19ms/step - loss: 0.5960 - auc: 0.7141 - val_loss: 0.5992 - val_auc: 0.7022\n",
      "Epoch 17/10000\n",
      "194/194 [==============================] - 4s 19ms/step - loss: 0.5956 - auc: 0.7147 - val_loss: 0.5990 - val_auc: 0.7024\n",
      "Epoch 18/10000\n",
      "194/194 [==============================] - 4s 19ms/step - loss: 0.5952 - auc: 0.7151 - val_loss: 0.5989 - val_auc: 0.7027\n",
      "Epoch 19/10000\n",
      "194/194 [==============================] - 4s 19ms/step - loss: 0.5948 - auc: 0.7157 - val_loss: 0.5987 - val_auc: 0.7026\n",
      "Epoch 20/10000\n",
      "194/194 [==============================] - 4s 19ms/step - loss: 0.5944 - auc: 0.7161 - val_loss: 0.5986 - val_auc: 0.7028\n",
      "Epoch 21/10000\n",
      "194/194 [==============================] - 4s 19ms/step - loss: 0.5941 - auc: 0.7166 - val_loss: 0.5985 - val_auc: 0.7028\n",
      "Epoch 22/10000\n",
      "194/194 [==============================] - 4s 19ms/step - loss: 0.5937 - auc: 0.7173 - val_loss: 0.5984 - val_auc: 0.7032\n",
      "Epoch 23/10000\n",
      "194/194 [==============================] - 4s 19ms/step - loss: 0.5933 - auc: 0.7177 - val_loss: 0.5983 - val_auc: 0.7034\n",
      "Epoch 24/10000\n",
      "194/194 [==============================] - 4s 19ms/step - loss: 0.5930 - auc: 0.7181 - val_loss: 0.5982 - val_auc: 0.7034\n",
      "Epoch 25/10000\n",
      "194/194 [==============================] - 4s 19ms/step - loss: 0.5926 - auc: 0.7186 - val_loss: 0.5982 - val_auc: 0.7033\n",
      "Epoch 26/10000\n",
      "194/194 [==============================] - 4s 19ms/step - loss: 0.5923 - auc: 0.7190 - val_loss: 0.5981 - val_auc: 0.7038\n",
      "Epoch 27/10000\n",
      "194/194 [==============================] - 4s 19ms/step - loss: 0.5920 - auc: 0.7194 - val_loss: 0.5980 - val_auc: 0.7039\n",
      "Epoch 28/10000\n",
      "194/194 [==============================] - 4s 19ms/step - loss: 0.5916 - auc: 0.7198 - val_loss: 0.5979 - val_auc: 0.7040\n",
      "Epoch 29/10000\n",
      "194/194 [==============================] - 4s 19ms/step - loss: 0.5913 - auc: 0.7203 - val_loss: 0.5979 - val_auc: 0.7042\n",
      "Epoch 30/10000\n",
      "194/194 [==============================] - 4s 19ms/step - loss: 0.5910 - auc: 0.7207 - val_loss: 0.5978 - val_auc: 0.7044\n",
      "Epoch 31/10000\n",
      "194/194 [==============================] - 4s 19ms/step - loss: 0.5907 - auc: 0.7211 - val_loss: 0.5979 - val_auc: 0.7044\n",
      "Epoch 32/10000\n",
      "194/194 [==============================] - 4s 19ms/step - loss: 0.5903 - auc: 0.7215 - val_loss: 0.5978 - val_auc: 0.7046\n",
      "Epoch 33/10000\n",
      "194/194 [==============================] - 4s 19ms/step - loss: 0.5900 - auc: 0.7220 - val_loss: 0.5978 - val_auc: 0.7048\n",
      "Epoch 34/10000\n",
      "194/194 [==============================] - 4s 19ms/step - loss: 0.5897 - auc: 0.7224 - val_loss: 0.5978 - val_auc: 0.7048\n",
      "Epoch 35/10000\n",
      "194/194 [==============================] - 4s 19ms/step - loss: 0.5894 - auc: 0.7228 - val_loss: 0.5979 - val_auc: 0.7048\n",
      "Epoch 36/10000\n",
      "194/194 [==============================] - 4s 19ms/step - loss: 0.5891 - auc: 0.7232 - val_loss: 0.5980 - val_auc: 0.7045\n",
      "Epoch 37/10000\n",
      "194/194 [==============================] - 4s 19ms/step - loss: 0.5888 - auc: 0.7237 - val_loss: 0.5979 - val_auc: 0.7048\n",
      "Epoch 38/10000\n",
      "194/194 [==============================] - 4s 19ms/step - loss: 0.5885 - auc: 0.7240 - val_loss: 0.5980 - val_auc: 0.7050\n",
      "Epoch 39/10000\n",
      "194/194 [==============================] - 4s 19ms/step - loss: 0.5882 - auc: 0.7244 - val_loss: 0.5979 - val_auc: 0.7053\n",
      "Epoch 40/10000\n",
      "194/194 [==============================] - 4s 19ms/step - loss: 0.5880 - auc: 0.7248 - val_loss: 0.5979 - val_auc: 0.7053\n",
      "Epoch 41/10000\n",
      "194/194 [==============================] - 4s 19ms/step - loss: 0.5877 - auc: 0.7251 - val_loss: 0.5981 - val_auc: 0.7051\n",
      "Epoch 42/10000\n",
      "194/194 [==============================] - 4s 19ms/step - loss: 0.5874 - auc: 0.7255 - val_loss: 0.5981 - val_auc: 0.7052\n",
      "Epoch 43/10000\n",
      "194/194 [==============================] - 4s 19ms/step - loss: 0.5872 - auc: 0.7258 - val_loss: 0.5983 - val_auc: 0.7048\n"
     ]
    },
    {
     "data": {
      "text/plain": [
       "<tensorflow.python.keras.callbacks.History at 0x2b1f4efaa7f0>"
      ]
     },
     "execution_count": 4,
     "metadata": {},
     "output_type": "execute_result"
    }
   ],
   "source": [
    "es_cb = callbacks.EarlyStopping(monitor='val_loss',\n",
    "                                min_delta=1e-8,\n",
    "                                patience=10,\n",
    "                                restore_best_weights=True)\n",
    "\n",
    "metadata_mdl.fit(train_ds, \n",
    "                 epochs=10_000,\n",
    "                 validation_data=valid_ds, \n",
    "                 callbacks=[es_cb])"
   ]
  },
  {
   "cell_type": "markdown",
   "id": "8ce50c89",
   "metadata": {},
   "source": [
    "## Image-Only Model:"
   ]
  },
  {
   "cell_type": "code",
   "execution_count": 6,
   "id": "86ebd35c",
   "metadata": {},
   "outputs": [],
   "source": [
    "import sys\n",
    "sys.path.append(\"../\")\n",
    "\n",
    "import tensorflow as tf\n",
    "import tensorflow_addons as tfa\n",
    "from modules import utils, models\n",
    "from tensorflow.keras import metrics\n",
    "from tensorflow.keras import callbacks"
   ]
  },
  {
   "cell_type": "code",
   "execution_count": 7,
   "id": "b7f90b29",
   "metadata": {
    "scrolled": false
   },
   "outputs": [
    {
     "name": "stderr",
     "output_type": "stream",
     "text": [
      "/home/yglaser/.conda/envs/bioenv/lib/python3.8/site-packages/tensorflow/python/autograph/impl/api.py:493: UserWarning: fill_value is not supported and is always 0 for TensorFlow < 2.4.0.\n",
      "  return py_builtins.overload_of(f)(*args)\n"
     ]
    }
   ],
   "source": [
    "image_train_gen = utils.CombinedDataGen(data_file='../data/master_train_df.csv',\n",
    "                                        out_mode='image',\n",
    "                                        mode='train',\n",
    "                                        shuffle=True,\n",
    "                                        scaler_dir='../models/scalers')\n",
    "\n",
    "image_valid_gen = utils.CombinedDataGen(data_file='../data/master_valid_df.csv',\n",
    "                                        out_mode='image',\n",
    "                                        mode='valid',\n",
    "                                        shuffle=True,\n",
    "                                        scaler_dir='../models/scalers')\n",
    "\n",
    "train_ds = utils.get_ds_from_gen(image_train_gen,\n",
    "                                 out_mode='image',\n",
    "                                 mode='train',\n",
    "                                 batch_size=64,\n",
    "                                 cache_dir='/home/yglaser/lus_scratch/tfdata_cache/im_train.tmp')\n",
    "valid_ds = utils.get_ds_from_gen(image_valid_gen,\n",
    "                                 out_mode='image',\n",
    "                                 mode='valid',\n",
    "                                 batch_size=64,\n",
    "                                 cache_dir='/home/yglaser/lus_scratch/tfdata_cache/im_valid.tmp')"
   ]
  },
  {
   "cell_type": "code",
   "execution_count": 8,
   "id": "978efa23",
   "metadata": {},
   "outputs": [],
   "source": [
    "image_mdl = models.init_image_model()\n",
    "\n",
    "eps = 1_000\n",
    "nb_steps = eps * (len(image_train_gen) // 64)\n",
    "\n",
    "radam = tfa.optimizers.RectifiedAdam(lr=1e-3, \n",
    "                                     total_steps=nb_steps, \n",
    "                                     warmup_proportion=0.02, \n",
    "                                     min_lr=1e-5)\n",
    "ranger = tfa.optimizers.Lookahead(radam, sync_period=7, slow_step_size=0.4)\n",
    "\n",
    "image_mdl.compile(optimizer=ranger,\n",
    "                  loss='binary_crossentropy',\n",
    "                  metrics=[metrics.AUC()])"
   ]
  },
  {
   "cell_type": "code",
   "execution_count": 9,
   "id": "a0bdfe7e",
   "metadata": {
    "scrolled": true
   },
   "outputs": [
    {
     "name": "stdout",
     "output_type": "stream",
     "text": [
      "Epoch 1/1000\n"
     ]
    },
    {
     "name": "stderr",
     "output_type": "stream",
     "text": [
      "2021-07-20 03:26:15.527103: I tensorflow/stream_executor/platform/default/dso_loader.cc:48] Successfully opened dynamic library libcudnn.so.7\n",
      "2021-07-20 03:26:18.000459: W tensorflow/stream_executor/gpu/asm_compiler.cc:81] Running ptxas --version returned 256\n",
      "2021-07-20 03:26:18.120309: W tensorflow/stream_executor/gpu/redzone_allocator.cc:314] Internal: ptxas exited with non-zero error code 256, output: \n",
      "Relying on driver to perform ptx compilation. \n",
      "Modify $PATH to customize ptxas location.\n",
      "This message will be only logged once.\n"
     ]
    },
    {
     "name": "stdout",
     "output_type": "stream",
     "text": [
      "194/194 [==============================] - 1344s 7s/step - loss: 0.8661 - auc_1: 0.5001 - val_loss: 0.7878 - val_auc_1: 0.4845\n",
      "Epoch 2/1000\n",
      "194/194 [==============================] - 836s 4s/step - loss: 0.8250 - auc_1: 0.5053 - val_loss: 0.6833 - val_auc_1: 0.5176\n",
      "Epoch 3/1000\n",
      "194/194 [==============================] - 726s 4s/step - loss: 0.7958 - auc_1: 0.5109 - val_loss: 0.6768 - val_auc_1: 0.5179\n",
      "Epoch 4/1000\n",
      "194/194 [==============================] - 707s 4s/step - loss: 0.7892 - auc_1: 0.5004 - val_loss: 0.6695 - val_auc_1: 0.5322\n",
      "Epoch 5/1000\n",
      "194/194 [==============================] - 710s 4s/step - loss: 0.7684 - auc_1: 0.4995 - val_loss: 0.6782 - val_auc_1: 0.5643\n",
      "Epoch 6/1000\n",
      "194/194 [==============================] - 708s 4s/step - loss: 0.7404 - auc_1: 0.5031 - val_loss: 0.6911 - val_auc_1: 0.5392\n",
      "Epoch 7/1000\n",
      "194/194 [==============================] - 728s 4s/step - loss: 0.7236 - auc_1: 0.5076 - val_loss: 0.6757 - val_auc_1: 0.5766\n",
      "Epoch 8/1000\n",
      "194/194 [==============================] - 714s 4s/step - loss: 0.7119 - auc_1: 0.5127 - val_loss: 0.6688 - val_auc_1: 0.5311\n",
      "Epoch 9/1000\n",
      "194/194 [==============================] - 722s 4s/step - loss: 0.7108 - auc_1: 0.5101 - val_loss: 0.6702 - val_auc_1: 0.4798\n",
      "Epoch 10/1000\n",
      "194/194 [==============================] - 707s 4s/step - loss: 0.7082 - auc_1: 0.5017 - val_loss: 0.6741 - val_auc_1: 0.5172\n",
      "Epoch 11/1000\n",
      "194/194 [==============================] - 724s 4s/step - loss: 0.7037 - auc_1: 0.5013 - val_loss: 0.6789 - val_auc_1: 0.5780\n",
      "Epoch 12/1000\n",
      "194/194 [==============================] - 796s 4s/step - loss: 0.6997 - auc_1: 0.5070 - val_loss: 0.6738 - val_auc_1: 0.4504\n",
      "Epoch 13/1000\n",
      "194/194 [==============================] - 721s 4s/step - loss: 0.6959 - auc_1: 0.5048 - val_loss: 0.6663 - val_auc_1: 0.5573\n",
      "Epoch 14/1000\n",
      "194/194 [==============================] - 721s 4s/step - loss: 0.6896 - auc_1: 0.5108 - val_loss: 0.6669 - val_auc_1: 0.5667\n",
      "Epoch 15/1000\n",
      "194/194 [==============================] - 736s 4s/step - loss: 0.6906 - auc_1: 0.5024 - val_loss: 0.6936 - val_auc_1: 0.5247\n",
      "Epoch 16/1000\n",
      "194/194 [==============================] - 796s 4s/step - loss: 0.6863 - auc_1: 0.5072 - val_loss: 0.6681 - val_auc_1: 0.5351\n",
      "Epoch 17/1000\n",
      "194/194 [==============================] - 718s 4s/step - loss: 0.6850 - auc_1: 0.5108 - val_loss: 0.6654 - val_auc_1: 0.5461\n",
      "Epoch 18/1000\n",
      "194/194 [==============================] - 735s 4s/step - loss: 0.6837 - auc_1: 0.5064 - val_loss: 0.6713 - val_auc_1: 0.4996\n",
      "Epoch 19/1000\n",
      "194/194 [==============================] - 715s 4s/step - loss: 0.6812 - auc_1: 0.5069 - val_loss: 0.6674 - val_auc_1: 0.5053\n",
      "Epoch 20/1000\n",
      "194/194 [==============================] - 806s 4s/step - loss: 0.6795 - auc_1: 0.5102 - val_loss: 0.6675 - val_auc_1: 0.5040\n",
      "Epoch 21/1000\n",
      "194/194 [==============================] - 724s 4s/step - loss: 0.6783 - auc_1: 0.5056 - val_loss: 0.6647 - val_auc_1: 0.5738\n",
      "Epoch 22/1000\n",
      "194/194 [==============================] - 712s 4s/step - loss: 0.6781 - auc_1: 0.5039 - val_loss: 0.6714 - val_auc_1: 0.5333\n",
      "Epoch 23/1000\n",
      "194/194 [==============================] - 711s 4s/step - loss: 0.6756 - auc_1: 0.5144 - val_loss: 0.6789 - val_auc_1: 0.5001\n",
      "Epoch 24/1000\n",
      "194/194 [==============================] - 719s 4s/step - loss: 0.6761 - auc_1: 0.5082 - val_loss: 0.6664 - val_auc_1: 0.5261\n",
      "Epoch 25/1000\n",
      "194/194 [==============================] - 769s 4s/step - loss: 0.6742 - auc_1: 0.5156 - val_loss: 0.6658 - val_auc_1: 0.5336\n",
      "Epoch 26/1000\n",
      "194/194 [==============================] - 771s 4s/step - loss: 0.6736 - auc_1: 0.5192 - val_loss: 0.6688 - val_auc_1: 0.5427\n",
      "Epoch 27/1000\n",
      "194/194 [==============================] - 750s 4s/step - loss: 0.6721 - auc_1: 0.5253 - val_loss: 0.6803 - val_auc_1: 0.5066\n",
      "Epoch 28/1000\n",
      "194/194 [==============================] - 730s 4s/step - loss: 0.6725 - auc_1: 0.5239 - val_loss: 0.6669 - val_auc_1: 0.5377\n",
      "Epoch 29/1000\n",
      "194/194 [==============================] - 797s 4s/step - loss: 0.6717 - auc_1: 0.5237 - val_loss: 0.7396 - val_auc_1: 0.5443\n",
      "Epoch 30/1000\n",
      "194/194 [==============================] - 722s 4s/step - loss: 0.6700 - auc_1: 0.5345 - val_loss: 0.6639 - val_auc_1: 0.5472\n",
      "Epoch 31/1000\n",
      "194/194 [==============================] - 713s 4s/step - loss: 0.6701 - auc_1: 0.5333 - val_loss: 0.6641 - val_auc_1: 0.5638\n",
      "Epoch 32/1000\n",
      "194/194 [==============================] - 712s 4s/step - loss: 0.6718 - auc_1: 0.5235 - val_loss: 0.6631 - val_auc_1: 0.5981\n",
      "Epoch 33/1000\n",
      "194/194 [==============================] - 790s 4s/step - loss: 0.6716 - auc_1: 0.5225 - val_loss: 0.6596 - val_auc_1: 0.5979\n",
      "Epoch 34/1000\n",
      "194/194 [==============================] - 752s 4s/step - loss: 0.6703 - auc_1: 0.5398 - val_loss: 0.6586 - val_auc_1: 0.5903\n",
      "Epoch 35/1000\n",
      "194/194 [==============================] - 722s 4s/step - loss: 0.6718 - auc_1: 0.5277 - val_loss: 0.6637 - val_auc_1: 0.5885\n",
      "Epoch 36/1000\n",
      "194/194 [==============================] - 814s 4s/step - loss: 0.6713 - auc_1: 0.5290 - val_loss: 0.6635 - val_auc_1: 0.5671\n",
      "Epoch 37/1000\n",
      "194/194 [==============================] - 730s 4s/step - loss: 0.6685 - auc_1: 0.5445 - val_loss: 0.6602 - val_auc_1: 0.5935\n",
      "Epoch 38/1000\n",
      "194/194 [==============================] - 755s 4s/step - loss: 0.6714 - auc_1: 0.5273 - val_loss: 0.6626 - val_auc_1: 0.5631\n",
      "Epoch 39/1000\n",
      "194/194 [==============================] - 715s 4s/step - loss: 0.6697 - auc_1: 0.5360 - val_loss: 0.6661 - val_auc_1: 0.6102\n",
      "Epoch 40/1000\n",
      "194/194 [==============================] - 697s 4s/step - loss: 0.6710 - auc_1: 0.5280 - val_loss: 0.6601 - val_auc_1: 0.6088\n",
      "Epoch 41/1000\n",
      "194/194 [==============================] - 700s 4s/step - loss: 0.6699 - auc_1: 0.5352 - val_loss: 0.6553 - val_auc_1: 0.5986\n",
      "Epoch 42/1000\n",
      "194/194 [==============================] - 711s 4s/step - loss: 0.6713 - auc_1: 0.5234 - val_loss: 0.6642 - val_auc_1: 0.5827\n",
      "Epoch 43/1000\n",
      "194/194 [==============================] - 709s 4s/step - loss: 0.6687 - auc_1: 0.5426 - val_loss: 0.6658 - val_auc_1: 0.5770\n",
      "Epoch 44/1000\n",
      "194/194 [==============================] - 732s 4s/step - loss: 0.6703 - auc_1: 0.5300 - val_loss: 0.6659 - val_auc_1: 0.5326\n",
      "Epoch 45/1000\n",
      "194/194 [==============================] - 748s 4s/step - loss: 0.6704 - auc_1: 0.5308 - val_loss: 0.6599 - val_auc_1: 0.5940\n",
      "Epoch 46/1000\n",
      "194/194 [==============================] - 746s 4s/step - loss: 0.6704 - auc_1: 0.5330 - val_loss: 0.6621 - val_auc_1: 0.5773\n",
      "Epoch 47/1000\n",
      "194/194 [==============================] - 735s 4s/step - loss: 0.6687 - auc_1: 0.5434 - val_loss: 0.6910 - val_auc_1: 0.5281\n",
      "Epoch 48/1000\n",
      "194/194 [==============================] - 764s 4s/step - loss: 0.6695 - auc_1: 0.5380 - val_loss: 0.6683 - val_auc_1: 0.5849\n",
      "Epoch 49/1000\n",
      "194/194 [==============================] - 712s 4s/step - loss: 0.6692 - auc_1: 0.5397 - val_loss: 0.6559 - val_auc_1: 0.6010\n",
      "Epoch 50/1000\n",
      "194/194 [==============================] - 716s 4s/step - loss: 0.6696 - auc_1: 0.5374 - val_loss: 0.6703 - val_auc_1: 0.5707\n",
      "Epoch 51/1000\n",
      "194/194 [==============================] - 774s 4s/step - loss: 0.6678 - auc_1: 0.5473 - val_loss: 0.6639 - val_auc_1: 0.5828\n"
     ]
    },
    {
     "data": {
      "text/plain": [
       "<tensorflow.python.keras.callbacks.History at 0x2b20473aad90>"
      ]
     },
     "execution_count": 9,
     "metadata": {},
     "output_type": "execute_result"
    }
   ],
   "source": [
    "es_cb = callbacks.EarlyStopping(monitor='val_loss',\n",
    "                                min_delta=1e-8,\n",
    "                                patience=10,\n",
    "                                restore_best_weights=True)\n",
    "\n",
    "image_mdl.fit(train_ds, \n",
    "              epochs=eps,\n",
    "              validation_data=valid_ds, \n",
    "              callbacks=[es_cb],\n",
    "              verbose=1)"
   ]
  },
  {
   "cell_type": "code",
   "execution_count": 10,
   "id": "769ebbe6",
   "metadata": {},
   "outputs": [],
   "source": [
    "image_mdl.save('../models/image_single_rec.h5')"
   ]
  },
  {
   "cell_type": "markdown",
   "id": "a598e298",
   "metadata": {},
   "source": [
    "## Combined Model:"
   ]
  },
  {
   "cell_type": "code",
   "execution_count": 1,
   "id": "4268b169",
   "metadata": {},
   "outputs": [
    {
     "name": "stderr",
     "output_type": "stream",
     "text": [
      "2021-07-20 21:02:03.422983: I tensorflow/stream_executor/platform/default/dso_loader.cc:48] Successfully opened dynamic library libcudart.so.10.1\n"
     ]
    }
   ],
   "source": [
    "import sys\n",
    "sys.path.append(\"../\")\n",
    "\n",
    "import tensorflow as tf\n",
    "import tensorflow_addons as tfa\n",
    "from modules import utils, models\n",
    "from tensorflow.keras import metrics\n",
    "from tensorflow.keras import callbacks"
   ]
  },
  {
   "cell_type": "code",
   "execution_count": 2,
   "id": "0998eb13",
   "metadata": {
    "scrolled": false
   },
   "outputs": [
    {
     "name": "stderr",
     "output_type": "stream",
     "text": [
      "2021-07-20 21:02:21.157482: I tensorflow/stream_executor/platform/default/dso_loader.cc:48] Successfully opened dynamic library libcuda.so.1\n",
      "2021-07-20 21:02:21.282398: I tensorflow/core/common_runtime/gpu/gpu_device.cc:1716] Found device 0 with properties: \n",
      "pciBusID: 0000:06:00.0 name: NVIDIA Tesla V100-SXM2-32GB computeCapability: 7.0\n",
      "coreClock: 1.53GHz coreCount: 80 deviceMemorySize: 31.75GiB deviceMemoryBandwidth: 836.37GiB/s\n",
      "2021-07-20 21:02:21.282438: I tensorflow/stream_executor/platform/default/dso_loader.cc:48] Successfully opened dynamic library libcudart.so.10.1\n",
      "2021-07-20 21:02:21.423095: I tensorflow/stream_executor/platform/default/dso_loader.cc:48] Successfully opened dynamic library libcublas.so.10\n",
      "2021-07-20 21:02:21.507013: I tensorflow/stream_executor/platform/default/dso_loader.cc:48] Successfully opened dynamic library libcufft.so.10\n",
      "2021-07-20 21:02:21.770799: I tensorflow/stream_executor/platform/default/dso_loader.cc:48] Successfully opened dynamic library libcurand.so.10\n",
      "2021-07-20 21:02:21.911929: I tensorflow/stream_executor/platform/default/dso_loader.cc:48] Successfully opened dynamic library libcusolver.so.10\n",
      "2021-07-20 21:02:21.996803: I tensorflow/stream_executor/platform/default/dso_loader.cc:48] Successfully opened dynamic library libcusparse.so.10\n",
      "2021-07-20 21:02:22.141277: I tensorflow/stream_executor/platform/default/dso_loader.cc:48] Successfully opened dynamic library libcudnn.so.7\n",
      "2021-07-20 21:02:22.149128: I tensorflow/core/common_runtime/gpu/gpu_device.cc:1858] Adding visible gpu devices: 0\n",
      "2021-07-20 21:02:22.149864: I tensorflow/core/platform/cpu_feature_guard.cc:142] This TensorFlow binary is optimized with oneAPI Deep Neural Network Library (oneDNN)to use the following CPU instructions in performance-critical operations:  AVX2 FMA\n",
      "To enable them in other operations, rebuild TensorFlow with the appropriate compiler flags.\n",
      "2021-07-20 21:02:22.160666: I tensorflow/core/platform/profile_utils/cpu_utils.cc:104] CPU Frequency: 2194905000 Hz\n",
      "2021-07-20 21:02:22.161360: I tensorflow/compiler/xla/service/service.cc:168] XLA service 0x55c3d5e62940 initialized for platform Host (this does not guarantee that XLA will be used). Devices:\n",
      "2021-07-20 21:02:22.161382: I tensorflow/compiler/xla/service/service.cc:176]   StreamExecutor device (0): Host, Default Version\n",
      "2021-07-20 21:02:22.451850: I tensorflow/compiler/xla/service/service.cc:168] XLA service 0x55c3d5e8ef70 initialized for platform CUDA (this does not guarantee that XLA will be used). Devices:\n",
      "2021-07-20 21:02:22.451884: I tensorflow/compiler/xla/service/service.cc:176]   StreamExecutor device (0): NVIDIA Tesla V100-SXM2-32GB, Compute Capability 7.0\n",
      "2021-07-20 21:02:22.458190: I tensorflow/core/common_runtime/gpu/gpu_device.cc:1716] Found device 0 with properties: \n",
      "pciBusID: 0000:06:00.0 name: NVIDIA Tesla V100-SXM2-32GB computeCapability: 7.0\n",
      "coreClock: 1.53GHz coreCount: 80 deviceMemorySize: 31.75GiB deviceMemoryBandwidth: 836.37GiB/s\n",
      "2021-07-20 21:02:22.458234: I tensorflow/stream_executor/platform/default/dso_loader.cc:48] Successfully opened dynamic library libcudart.so.10.1\n",
      "2021-07-20 21:02:22.458269: I tensorflow/stream_executor/platform/default/dso_loader.cc:48] Successfully opened dynamic library libcublas.so.10\n",
      "2021-07-20 21:02:22.458291: I tensorflow/stream_executor/platform/default/dso_loader.cc:48] Successfully opened dynamic library libcufft.so.10\n",
      "2021-07-20 21:02:22.458311: I tensorflow/stream_executor/platform/default/dso_loader.cc:48] Successfully opened dynamic library libcurand.so.10\n",
      "2021-07-20 21:02:22.458329: I tensorflow/stream_executor/platform/default/dso_loader.cc:48] Successfully opened dynamic library libcusolver.so.10\n",
      "2021-07-20 21:02:22.458348: I tensorflow/stream_executor/platform/default/dso_loader.cc:48] Successfully opened dynamic library libcusparse.so.10\n",
      "2021-07-20 21:02:22.458377: I tensorflow/stream_executor/platform/default/dso_loader.cc:48] Successfully opened dynamic library libcudnn.so.7\n",
      "2021-07-20 21:02:22.465017: I tensorflow/core/common_runtime/gpu/gpu_device.cc:1858] Adding visible gpu devices: 0\n",
      "2021-07-20 21:02:22.465055: I tensorflow/stream_executor/platform/default/dso_loader.cc:48] Successfully opened dynamic library libcudart.so.10.1\n",
      "2021-07-20 21:02:25.251337: I tensorflow/core/common_runtime/gpu/gpu_device.cc:1257] Device interconnect StreamExecutor with strength 1 edge matrix:\n",
      "2021-07-20 21:02:25.251392: I tensorflow/core/common_runtime/gpu/gpu_device.cc:1263]      0 \n",
      "2021-07-20 21:02:25.251402: I tensorflow/core/common_runtime/gpu/gpu_device.cc:1276] 0:   N \n",
      "2021-07-20 21:02:25.259627: I tensorflow/core/common_runtime/gpu/gpu_device.cc:1402] Created TensorFlow device (/job:localhost/replica:0/task:0/device:GPU:0 with 30134 MB memory) -> physical GPU (device: 0, name: NVIDIA Tesla V100-SXM2-32GB, pci bus id: 0000:06:00.0, compute capability: 7.0)\n",
      "/home/yglaser/.conda/envs/bioenv/lib/python3.8/site-packages/tensorflow/python/autograph/impl/api.py:493: UserWarning: fill_value is not supported and is always 0 for TensorFlow < 2.4.0.\n",
      "  return py_builtins.overload_of(f)(*args)\n"
     ]
    }
   ],
   "source": [
    "combined_train_gen = utils.CombinedDataGen(data_file='../data/master_train_df.csv',\n",
    "                                           out_mode='combined',\n",
    "                                           mode='train',\n",
    "                                           shuffle=True,\n",
    "                                           scaler_dir='../models/scalers')\n",
    "\n",
    "combined_valid_gen = utils.CombinedDataGen(data_file='../data/master_valid_df.csv',\n",
    "                                           out_mode='combined',\n",
    "                                           mode='valid',\n",
    "                                           shuffle=True,\n",
    "                                           scaler_dir='../models/scalers')\n",
    "\n",
    "train_ds = utils.get_ds_from_gen(combined_train_gen,\n",
    "                                 out_mode='combined',\n",
    "                                 mode='train',\n",
    "                                 batch_size=64,\n",
    "                                 cache_dir='/home/yglaser/lus_scratch/tfdata_cache/comb_train.tmp')\n",
    "valid_ds = utils.get_ds_from_gen(combined_train_gen,\n",
    "                                 out_mode='combined',\n",
    "                                 mode='valid',\n",
    "                                 batch_size=64,\n",
    "                                 cache_dir='/home/yglaser/lus_scratch/tfdata_cache/comb_valid.tmp')"
   ]
  },
  {
   "cell_type": "code",
   "execution_count": 5,
   "id": "fc14aea8",
   "metadata": {},
   "outputs": [],
   "source": [
    "combined_mdl = models.init_combined_model(weights='../models/image_single_rec.h5')\n",
    "\n",
    "for l in combined_mdl.layers:\n",
    "    assert l.trainable\n",
    "    if l.name.startswith('img'):\n",
    "        l.trainable = False\n",
    "    if l.name.startswith('meta'):\n",
    "        l.trainable = False\n",
    "    if l.name.startswith('densenet'):\n",
    "        for ll in l.layers:\n",
    "            ll.trainable = False\n",
    "\n",
    "combined_mdl.compile(optimizer='adam',\n",
    "                     loss='binary_crossentropy',\n",
    "                     metrics=[metrics.AUC()])"
   ]
  },
  {
   "cell_type": "code",
   "execution_count": null,
   "id": "2b3b3c0b",
   "metadata": {},
   "outputs": [
    {
     "name": "stdout",
     "output_type": "stream",
     "text": [
      "Epoch 1/30\n",
      "194/194 [==============================] - 1437s 7s/step - loss: 0.6745 - auc_1: 0.5384 - val_loss: 0.6578 - val_auc_1: 0.6319\n",
      "Epoch 2/30\n",
      "194/194 [==============================] - 1219s 6s/step - loss: 0.6715 - auc_1: 0.5452 - val_loss: 0.6552 - val_auc_1: 0.6340\n",
      "Epoch 3/30\n",
      "194/194 [==============================] - 1229s 6s/step - loss: 0.6610 - auc_1: 0.5843 - val_loss: 0.6586 - val_auc_1: 0.6459\n",
      "Epoch 4/30\n",
      "194/194 [==============================] - 1233s 6s/step - loss: 0.6537 - auc_1: 0.6070 - val_loss: 0.6414 - val_auc_1: 0.6537\n",
      "Epoch 5/30\n",
      "194/194 [==============================] - 1237s 6s/step - loss: 0.6484 - auc_1: 0.6215 - val_loss: 0.6341 - val_auc_1: 0.6668\n",
      "Epoch 6/30\n",
      " 69/194 [=========>....................] - ETA: 8:43 - loss: 0.6489 - auc_1: 0.6161"
     ]
    }
   ],
   "source": [
    "es_cb = callbacks.EarlyStopping(monitor='val_loss',\n",
    "                                min_delta=1e-8,\n",
    "                                patience=10,\n",
    "                                restore_best_weights=True)\n",
    "\n",
    "combined_mdl.fit(train_ds,\n",
    "                 epochs=30,\n",
    "                 validation_data=valid_ds, \n",
    "                 callbacks=[es_cb],\n",
    "                 verbose=1)"
   ]
  },
  {
   "cell_type": "code",
   "execution_count": null,
   "id": "347389e3",
   "metadata": {},
   "outputs": [],
   "source": [
    "eps = 1_000\n",
    "nb_steps = eps * (len(image_train_gen) // 64)\n",
    "\n",
    "radam = tfa.optimizers.RectifiedAdam(lr=1e-3, \n",
    "                                     total_steps=nb_steps, \n",
    "                                     warmup_proportion=0.012, \n",
    "                                     min_lr=1e-5)\n",
    "ranger = tfa.optimizers.Lookahead(radam, sync_period=7, slow_step_size=0.4)\n",
    "\n",
    "\n",
    "for l in combined_mdl.layers:\n",
    "    assert l.trainable\n",
    "    if l.name.startswith('img'):\n",
    "        l.trainable = False\n",
    "    if l.name.startswith('meta'):\n",
    "        l.trainable = False\n",
    "    if l.name.startswith('densenet'):\n",
    "        for ll in l.layers:\n",
    "            ll.trainable = False\n",
    "            \n",
    "combined_mdl.compile(optimizer=ranger,\n",
    "                     loss='binary_crossentropy',\n",
    "                     metrics=[metrics.AUC()])"
   ]
  },
  {
   "cell_type": "code",
   "execution_count": null,
   "id": "165d71f2",
   "metadata": {},
   "outputs": [],
   "source": [
    "combined_mdl.fit(train_ds,\n",
    "                 epochs=eps,\n",
    "                 validation_data=valid_ds, \n",
    "                 callbacks=[es_cb],\n",
    "                 verbose=1)"
   ]
  },
  {
   "cell_type": "code",
   "execution_count": null,
   "id": "216df433",
   "metadata": {},
   "outputs": [],
   "source": [
    "combined_mdl.save('../models/combined_single_rec.h5')"
   ]
  }
 ],
 "metadata": {
  "kernelspec": {
   "display_name": "BioEnv",
   "language": "python",
   "name": "bioenv"
  },
  "language_info": {
   "codemirror_mode": {
    "name": "ipython",
    "version": 3
   },
   "file_extension": ".py",
   "mimetype": "text/x-python",
   "name": "python",
   "nbconvert_exporter": "python",
   "pygments_lexer": "ipython3",
   "version": "3.8.10"
  }
 },
 "nbformat": 4,
 "nbformat_minor": 5
}

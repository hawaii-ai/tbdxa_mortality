{
 "cells": [
  {
   "cell_type": "code",
   "execution_count": null,
   "id": "9a5670f3",
   "metadata": {},
   "outputs": [],
   "source": [
    "import sys\n",
    "sys.path.append(\"../\")\n",
    "\n",
    "import tensorflow as tf\n",
    "import tensorflow_addons as tfa\n",
    "from modules import utils, models\n",
    "from tensorflow.keras import metrics\n",
    "from tensorflow.keras import callbacks"
   ]
  },
  {
   "cell_type": "markdown",
   "id": "40cd4ac4",
   "metadata": {},
   "source": [
    "# Training Single-Record Models:\n",
    "## Metadata-Only Model:"
   ]
  },
  {
   "cell_type": "code",
   "execution_count": null,
   "id": "5a47ba4f",
   "metadata": {
    "scrolled": false
   },
   "outputs": [],
   "source": [
    "metadata_train_gen = utils.CombinedDataGen(data_file='../data/demo_train.csv',\n",
    "                                           out_mode='meta',\n",
    "                                           mode='train',\n",
    "                                           shuffle=True,\n",
    "                                           scaler_dir='../models/scalers')\n",
    "\n",
    "metadata_valid_gen = utils.CombinedDataGen(data_file='../data/demo_valid.csv',\n",
    "                                           out_mode='meta',\n",
    "                                           mode='valid',\n",
    "                                           shuffle=True,\n",
    "                                           scaler_dir='../models/scalers')\n",
    "\n",
    "train_ds = utils.get_ds_from_gen(metadata_train_gen,\n",
    "                                 out_mode='meta',\n",
    "                                 mode='train',\n",
    "                                 batch_size=64,\n",
    "                                 cache_dir='')\n",
    "valid_ds = utils.get_ds_from_gen(metadata_valid_gen,\n",
    "                                 out_mode='meta',\n",
    "                                 mode='valid',\n",
    "                                 batch_size=64,\n",
    "                                 cache_dir='')"
   ]
  },
  {
   "cell_type": "code",
   "execution_count": null,
   "id": "b638ed31",
   "metadata": {},
   "outputs": [],
   "source": [
    "metadata_mdl = models.init_meta_model()\n",
    "\n",
    "metadata_mdl.compile(optimizer='adam', \n",
    "                     loss='binary_crossentropy',\n",
    "                     metrics=[metrics.AUC()])"
   ]
  },
  {
   "cell_type": "code",
   "execution_count": null,
   "id": "34959377",
   "metadata": {
    "scrolled": true
   },
   "outputs": [],
   "source": [
    "es_cb = callbacks.EarlyStopping(monitor='val_loss',\n",
    "                                min_delta=1e-8,\n",
    "                                patience=10,\n",
    "                                restore_best_weights=True)\n",
    "\n",
    "metadata_mdl.fit(train_ds, \n",
    "                 epochs=10_000,\n",
    "                 validation_data=valid_ds, \n",
    "                 callbacks=[es_cb])"
   ]
  },
  {
   "cell_type": "markdown",
   "id": "8ce50c89",
   "metadata": {},
   "source": [
    "## Image-Only Model:"
   ]
  },
  {
   "cell_type": "code",
   "execution_count": null,
   "id": "86ebd35c",
   "metadata": {},
   "outputs": [],
   "source": [
    "import sys\n",
    "sys.path.append(\"../\")\n",
    "\n",
    "import tensorflow as tf\n",
    "import tensorflow_addons as tfa\n",
    "from modules import utils, models\n",
    "from tensorflow.keras import metrics\n",
    "from tensorflow.keras import callbacks"
   ]
  },
  {
   "cell_type": "code",
   "execution_count": null,
   "id": "b7f90b29",
   "metadata": {
    "scrolled": false
   },
   "outputs": [],
   "source": [
    "image_train_gen = utils.CombinedDataGen(data_file='../data/demo_train.csv',\n",
    "                                        out_mode='image',\n",
    "                                        mode='train',\n",
    "                                        shuffle=True,\n",
    "                                        scaler_dir='../models/scalers')\n",
    "\n",
    "image_valid_gen = utils.CombinedDataGen(data_file='../data/demo_valid.csv',\n",
    "                                        out_mode='image',\n",
    "                                        mode='valid',\n",
    "                                        shuffle=True,\n",
    "                                        scaler_dir='../models/scalers')\n",
    "\n",
    "train_ds = utils.get_ds_from_gen(image_train_gen,\n",
    "                                 out_mode='image',\n",
    "                                 mode='train',\n",
    "                                 batch_size=64,\n",
    "                                 cache_dir='/home/yglaser/lus_scratch/tfdata_cache/im_train.tmp')\n",
    "valid_ds = utils.get_ds_from_gen(image_valid_gen,\n",
    "                                 out_mode='image',\n",
    "                                 mode='valid',\n",
    "                                 batch_size=64,\n",
    "                                 cache_dir='/home/yglaser/lus_scratch/tfdata_cache/im_valid.tmp')"
   ]
  },
  {
   "cell_type": "code",
   "execution_count": null,
   "id": "978efa23",
   "metadata": {},
   "outputs": [],
   "source": [
    "image_mdl = models.init_image_model()\n",
    "\n",
    "eps = 1_000\n",
    "nb_steps = eps * (len(image_train_gen) // 64)\n",
    "\n",
    "radam = tfa.optimizers.RectifiedAdam(lr=1e-3, \n",
    "                                     total_steps=nb_steps, \n",
    "                                     warmup_proportion=0.02, \n",
    "                                     min_lr=1e-5)\n",
    "ranger = tfa.optimizers.Lookahead(radam, sync_period=7, slow_step_size=0.4)\n",
    "\n",
    "image_mdl.compile(optimizer=ranger,\n",
    "                  loss='binary_crossentropy',\n",
    "                  metrics=[metrics.AUC()])"
   ]
  },
  {
   "cell_type": "code",
   "execution_count": null,
   "id": "a0bdfe7e",
   "metadata": {
    "scrolled": true
   },
   "outputs": [],
   "source": [
    "es_cb = callbacks.EarlyStopping(monitor='val_loss',\n",
    "                                min_delta=1e-8,\n",
    "                                patience=10,\n",
    "                                restore_best_weights=True)\n",
    "\n",
    "image_mdl.fit(train_ds, \n",
    "              epochs=eps,\n",
    "              validation_data=valid_ds, \n",
    "              callbacks=[es_cb],\n",
    "              verbose=1)"
   ]
  },
  {
   "cell_type": "code",
   "execution_count": null,
   "id": "769ebbe6",
   "metadata": {},
   "outputs": [],
   "source": [
    "image_mdl.save('../models/image_single_rec.h5')"
   ]
  },
  {
   "cell_type": "markdown",
   "id": "a598e298",
   "metadata": {},
   "source": [
    "## Combined Model:"
   ]
  },
  {
   "cell_type": "code",
   "execution_count": null,
   "id": "4268b169",
   "metadata": {},
   "outputs": [],
   "source": [
    "import sys\n",
    "sys.path.append(\"../\")\n",
    "\n",
    "import tensorflow as tf\n",
    "import tensorflow_addons as tfa\n",
    "from modules import utils, models\n",
    "from tensorflow.keras import metrics\n",
    "from tensorflow.keras import callbacks"
   ]
  },
  {
   "cell_type": "code",
   "execution_count": null,
   "id": "0998eb13",
   "metadata": {
    "scrolled": false
   },
   "outputs": [],
   "source": [
    "combined_train_gen = utils.CombinedDataGen(data_file='../data/demo_train.csv',\n",
    "                                           out_mode='combined',\n",
    "                                           mode='train',\n",
    "                                           shuffle=True,\n",
    "                                           scaler_dir='../models/scalers')\n",
    "\n",
    "combined_valid_gen = utils.CombinedDataGen(data_file='../data/demo_valid.csv',\n",
    "                                           out_mode='combined',\n",
    "                                           mode='valid',\n",
    "                                           shuffle=True,\n",
    "                                           scaler_dir='../models/scalers')\n",
    "\n",
    "train_ds = utils.get_ds_from_gen(combined_train_gen,\n",
    "                                 out_mode='combined',\n",
    "                                 mode='train',\n",
    "                                 batch_size=64,\n",
    "                                 cache_dir='')\n",
    "valid_ds = utils.get_ds_from_gen(combined_train_gen,\n",
    "                                 out_mode='combined',\n",
    "                                 mode='valid',\n",
    "                                 batch_size=64,\n",
    "                                 cache_dir='')"
   ]
  },
  {
   "cell_type": "code",
   "execution_count": null,
   "id": "fc14aea8",
   "metadata": {},
   "outputs": [],
   "source": [
    "combined_mdl = models.init_combined_model(weights=['../models/image_single_rec.h5',\n",
    "                                                   '../models/metadata_single_rec.h5'])\n",
    "\n",
    "for l in combined_mdl.layers:\n",
    "    assert l.trainable\n",
    "    if l.name.startswith('img'):\n",
    "        l.trainable = False\n",
    "    if l.name.startswith('meta'):\n",
    "        l.trainable = False\n",
    "    if l.name.startswith('densenet'):\n",
    "        for ll in l.layers:\n",
    "            ll.trainable = False\n",
    "\n",
    "combined_mdl.compile(optimizer='adam',\n",
    "                     loss='binary_crossentropy',\n",
    "                     metrics=[metrics.AUC()])"
   ]
  },
  {
   "cell_type": "code",
   "execution_count": null,
   "id": "2b3b3c0b",
   "metadata": {},
   "outputs": [],
   "source": [
    "es_cb = callbacks.EarlyStopping(monitor='val_loss',\n",
    "                                min_delta=1e-8,\n",
    "                                patience=10,\n",
    "                                restore_best_weights=True)\n",
    "\n",
    "combined_mdl.fit(train_ds,\n",
    "                 epochs=30,\n",
    "                 validation_data=valid_ds, \n",
    "                 callbacks=[es_cb],\n",
    "                 verbose=1)"
   ]
  },
  {
   "cell_type": "code",
   "execution_count": null,
   "id": "347389e3",
   "metadata": {},
   "outputs": [],
   "source": [
    "eps = 1_000\n",
    "nb_steps = eps * (len(image_train_gen) // 64)\n",
    "\n",
    "radam = tfa.optimizers.RectifiedAdam(lr=1e-3, \n",
    "                                     total_steps=nb_steps, \n",
    "                                     warmup_proportion=0.012, \n",
    "                                     min_lr=1e-5)\n",
    "ranger = tfa.optimizers.Lookahead(radam, sync_period=7, slow_step_size=0.4)\n",
    "\n",
    "\n",
    "for l in combined_mdl.layers:\n",
    "    assert l.trainable\n",
    "    if l.name.startswith('img'):\n",
    "        l.trainable = False\n",
    "    if l.name.startswith('meta'):\n",
    "        l.trainable = False\n",
    "    if l.name.startswith('densenet'):\n",
    "        for ll in l.layers:\n",
    "            ll.trainable = False\n",
    "            \n",
    "combined_mdl.compile(optimizer=ranger,\n",
    "                     loss='binary_crossentropy',\n",
    "                     metrics=[metrics.AUC()])"
   ]
  },
  {
   "cell_type": "code",
   "execution_count": null,
   "id": "165d71f2",
   "metadata": {},
   "outputs": [],
   "source": [
    "combined_mdl.fit(train_ds,\n",
    "                 epochs=eps,\n",
    "                 validation_data=valid_ds, \n",
    "                 callbacks=[es_cb],\n",
    "                 verbose=1)"
   ]
  },
  {
   "cell_type": "code",
   "execution_count": null,
   "id": "216df433",
   "metadata": {},
   "outputs": [],
   "source": [
    "combined_mdl.save('../models/combined_single_rec.h5')"
   ]
  }
 ],
 "metadata": {
  "kernelspec": {
   "display_name": "BioEnv",
   "language": "python",
   "name": "bioenv"
  },
  "language_info": {
   "codemirror_mode": {
    "name": "ipython",
    "version": 3
   },
   "file_extension": ".py",
   "mimetype": "text/x-python",
   "name": "python",
   "nbconvert_exporter": "python",
   "pygments_lexer": "ipython3",
   "version": "3.8.10"
  }
 },
 "nbformat": 4,
 "nbformat_minor": 5
}

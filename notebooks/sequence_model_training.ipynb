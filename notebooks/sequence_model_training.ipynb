{
 "cells": [
  {
   "cell_type": "markdown",
   "id": "10f140bd",
   "metadata": {},
   "source": [
    "# Sequence Model Training\n",
    "## Metadata Single-Record Embeddings to File"
   ]
  },
  {
   "cell_type": "code",
   "execution_count": 1,
   "id": "0596dd0d",
   "metadata": {},
   "outputs": [
    {
     "name": "stderr",
     "output_type": "stream",
     "text": [
      "2021-07-22 09:27:52.495083: I tensorflow/stream_executor/platform/default/dso_loader.cc:48] Successfully opened dynamic library libcudart.so.10.1\n"
     ]
    }
   ],
   "source": [
    "import sys\n",
    "sys.path.append(\"../\")\n",
    "\n",
    "import pickle\n",
    "import numpy as np\n",
    "import pandas as pd\n",
    "import tensorflow as tf\n",
    "from tensorflow.keras import metrics\n",
    "from tensorflow.keras import callbacks\n",
    "from modules import utils, models\n",
    "from tqdm import tqdm"
   ]
  },
  {
   "cell_type": "code",
   "execution_count": null,
   "id": "faaeedb9",
   "metadata": {},
   "outputs": [],
   "source": [
    "metadata_train_gen = utils.CombinedDataGen(data_file='../data/demo_train.csv',\n",
    "                                           out_mode='meta',\n",
    "                                           mode='test',\n",
    "                                           shuffle=False,\n",
    "                                           scaler_dir='../models/scalers',\n",
    "                                           include_index=True)\n",
    "train_index_map = utils.index_map('../data/demo_train.csv')\n",
    "\n",
    "metadata_valid_gen = utils.CombinedDataGen(data_file='../data/demo_valid.csv',\n",
    "                                           out_mode='meta',\n",
    "                                           mode='test',\n",
    "                                           shuffle=False,\n",
    "                                           scaler_dir='../models/scalers',\n",
    "                                           include_index=True)\n",
    "valid_index_map = utils.index_map('../data/demo_valid.csv')\n",
    "\n",
    "metadata_test_gen = utils.CombinedDataGen(data_file='../data/demo_test.csv',\n",
    "                                           out_mode='meta',\n",
    "                                           mode='test',\n",
    "                                           shuffle=False,\n",
    "                                           scaler_dir='../models/scalers',\n",
    "                                           include_index=True)\n",
    "test_index_map = utils.index_map('../data/demo_test.csv')\n",
    "\n",
    "metadata_mdl = tf.keras.models.load_model('../models/metadata_single_rec.h5')\n",
    "\n",
    "emb_inp = metadata_mdl.inputs\n",
    "emb_out = metadata_mdl.layers[-2].output\n",
    "embedding_mdl = tf.keras.models.Model(inputs=emb_inp, outputs=emb_out)"
   ]
  },
  {
   "cell_type": "code",
   "execution_count": null,
   "id": "c43916d7",
   "metadata": {},
   "outputs": [],
   "source": [
    "utils.write_embeddings(generator=metadata_train_gen, \n",
    "                       out_mode='meta',\n",
    "                       mode='train',\n",
    "                       model=embedding_mdl,\n",
    "                       index_map=train_index_map,\n",
    "                       save_dir='../data/metadata_demo_sequence_train.pkl',\n",
    "                       nb_eps=100)\n",
    "utils.write_embeddings(generator=metadata_valid_gen, \n",
    "                       out_mode='meta',\n",
    "                       mode='valid',\n",
    "                       model=embedding_mdl,\n",
    "                       index_map=valid_index_map,\n",
    "                       save_dir='../data/metadata_demo_sequence_valid.pkl',\n",
    "                       nb_eps=1)\n",
    "utils.write_embeddings(generator=metadata_test_gen, \n",
    "                       out_mode='meta',\n",
    "                       mode='test',\n",
    "                       model=embedding_mdl,\n",
    "                       index_map=test_index_map,\n",
    "                       save_dir='../data/metadata_demo_sequence_test.pkl',\n",
    "                       nb_eps=1)"
   ]
  },
  {
   "cell_type": "markdown",
   "id": "feeb0b1e",
   "metadata": {},
   "source": [
    "## Train Metadata Sequence Model"
   ]
  },
  {
   "cell_type": "code",
   "execution_count": null,
   "id": "5cf9443a",
   "metadata": {},
   "outputs": [],
   "source": [
    "metadata_seq_mdl = models.init_seq_model(inp_shape=33)\n",
    "train_metadata_seq_gen = utils.SequenceGen(data_file='../data/metadata_demo_sequence_train.pkl',\n",
    "                                           batch_size=2,\n",
    "                                           emb_shape=33)\n",
    "valid_metadata_seq_gen = utils.SequenceGen(data_file='../data/metadata_demo_sequence_valid.pkl',\n",
    "                                           batch_size=1,\n",
    "                                           emb_shape=33,\n",
    "                                           drop_prob=0.)"
   ]
  },
  {
   "cell_type": "code",
   "execution_count": null,
   "id": "8a997e48",
   "metadata": {
    "scrolled": true
   },
   "outputs": [],
   "source": [
    "es_cb = callbacks.EarlyStopping(monitor='val_loss',\n",
    "                                min_delta=1e-8,\n",
    "                                patience=30,\n",
    "                                restore_best_weights=True)\n",
    "\n",
    "metadata_seq_mdl.compile(optimizer='adam', \n",
    "                         loss='binary_crossentropy',\n",
    "                         metrics=[metrics.AUC()])\n",
    "\n",
    "metadata_seq_mdl.fit(train_metadata_seq_gen, \n",
    "                     validation_data=valid_metadata_seq_gen,\n",
    "                     epochs=1000,\n",
    "                     callbacks=[es_cb])"
   ]
  },
  {
   "cell_type": "code",
   "execution_count": null,
   "id": "a4717396",
   "metadata": {},
   "outputs": [],
   "source": [
    "metadata_seq_mdl.save('../models/metadata_sequence_rec.h5')"
   ]
  }
 ],
 "metadata": {
  "kernelspec": {
   "display_name": "BioEnv",
   "language": "python",
   "name": "bioenv"
  },
  "language_info": {
   "codemirror_mode": {
    "name": "ipython",
    "version": 3
   },
   "file_extension": ".py",
   "mimetype": "text/x-python",
   "name": "python",
   "nbconvert_exporter": "python",
   "pygments_lexer": "ipython3",
   "version": "3.8.10"
  }
 },
 "nbformat": 4,
 "nbformat_minor": 5
}
